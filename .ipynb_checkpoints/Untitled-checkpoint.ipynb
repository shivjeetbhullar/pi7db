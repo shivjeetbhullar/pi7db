{
 "cells": [
  {
   "cell_type": "code",
   "execution_count": 1,
   "metadata": {},
   "outputs": [],
   "source": [
    "def check_GT_LT(d1,d2):\n",
    "    if GT == d1[0] and isinstance(d1[1],int):\n",
    "        if d1[1] < d2:return True\n",
    "        else:return False\n",
    "    elif LT == d1[0] and isinstance(d1[1],int):\n",
    "        if d1[1] > d2:return True\n",
    "        else:return False\n",
    "    elif GET == d1[0] and isinstance(d1[1],int):\n",
    "        if d1[1] <= d2:return True\n",
    "        else:return False\n",
    "    elif LET == d1[0] and isinstance(d1[1],int):\n",
    "        if d1[1] >= d2:return True\n",
    "        else:return False\n",
    "    else:return False\n",
    "\n",
    "def checkli_stin(l1,l2):\n",
    "    return all(item in l2 for item in l1)\n",
    "\n",
    "def string_filter(d1,d2):\n",
    "    if d1[-2:] == '**' and d1[:2] == '**':\n",
    "        if d1[:-2][2:] in d2:return True\n",
    "    elif d1[-2:] == '**':\n",
    "        if d2[:len(d1[:-2])] == d1[:-2]:return True\n",
    "    elif d1[:2] == '**':\n",
    "        if d2[-int(len(d1[2:])):] == d1[2:]:return True\n",
    "    elif d1 == d2:return True\n",
    "    else:return False\n",
    "\n",
    "def checklist(l1,l2):\n",
    "    for xx in enumerate(l1):\n",
    "      for x in enumerate(l2):\n",
    "        output = findDiff(l1[xx[0]],l2[x[0]])\n",
    "        if output is True :break\n",
    "    if output is None or output is True:return True \n",
    "    else:return False\n"
   ]
  },
  {
   "cell_type": "code",
   "execution_count": null,
   "metadata": {},
   "outputs": [],
   "source": [
    "boole = False\n",
    "def findDiff(d1, d2):\n",
    "    global boole\n",
    "    for key in d1:\n",
    "      if (key not in d2):pass\n",
    "      else:\n",
    "        if isinstance(d1[key],dict):\n",
    "          if findDiff(d1[key],d2[key]) is False:return False\n",
    "        elif type(d1[key]) is list:\n",
    "          if all(isinstance(s, dict) for s in d1[key]):\n",
    "            if checklist(d1[key],d2[key]) is False:boole = False;return False\n",
    "          if all(isinstance(s, str) for s in d1[key]) or all(isinstance(i, int) for i in d1[key]):\n",
    "            if checkli_stin(d1[key],d2[key]):boole = True\n",
    "            else:boole = False;return False\n",
    "        else:\n",
    "          # <,> = Operators\n",
    "          if isinstance(d1[key],tuple):\n",
    "            if check_GT_LT(d1[key],d2[key]):boole = True\n",
    "            else:boole = False;return False\n",
    "          # STRING FILTER\n",
    "          elif isinstance(d1[key],str):\n",
    "            if string_filter(d1[key],d2[key]):boole = True\n",
    "            else:boole = False;return False\n",
    "          elif d1[key] == d2[key]:boole = True\n",
    "          else:boole = False;return False\n",
    "    \n",
    "    return boole\n",
    "d1 = {'unid': '20204467568887923', 'language': ['en', 'hi', 'zh-CN'], 'posttags': ['राजा'], 'category': ['खेल'], 'Post_Html': 'बधिर शब्द', 'title': 'Ranjit Singh', 'featuredimage': 'http://127.0.0.1:5000/admin/static/gallery/jpg.jpeg', 'postid': 'c92e1479b916479b95ea76d875679eaa', 'Date_f': ['25 June 2020', '2020-06-25'], 'views': 0, 'comments': {}, 'cr_language': 'hi', 'url': 'Ranjit-Singh', 'cr_dc_path': 'pi7/DATABASE/BLOGDB/hi/Ranjit-Singh'}\n",
    "d2 = {\"unid\":'20204467568887923'}"
   ]
  }
 ],
 "metadata": {
  "kernelspec": {
   "display_name": "Python 3",
   "language": "python",
   "name": "python3"
  },
  "language_info": {
   "codemirror_mode": {
    "name": "ipython",
    "version": 3
   },
   "file_extension": ".py",
   "mimetype": "text/x-python",
   "name": "python",
   "nbconvert_exporter": "python",
   "pygments_lexer": "ipython3",
   "version": "3.7.3"
  }
 },
 "nbformat": 4,
 "nbformat_minor": 2
}
